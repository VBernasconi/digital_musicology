{
 "cells": [
  {
   "cell_type": "code",
   "execution_count": 2,
   "metadata": {},
   "outputs": [],
   "source": [
    "import re\n",
    "import pandas as pd\n",
    "import numpy as np\n",
    "import matplotlib.pyplot as plt\n",
    "import scipy.stats\n",
    "import seaborn as sns\n",
    "from scipy.stats import pearsonr\n",
    "\n",
    "import warnings\n",
    "warnings.filterwarnings(\"ignore\")\n",
    "pd.options.mode.chained_assignment = None"
   ]
  },
  {
   "cell_type": "code",
   "execution_count": 3,
   "metadata": {},
   "outputs": [],
   "source": [
    "df = pd.read_json('json/corpus.json')\n",
    "df = df.reset_index().drop(columns = ['index'])"
   ]
  },
  {
   "cell_type": "code",
   "execution_count": 4,
   "metadata": {},
   "outputs": [
    {
     "data": {
      "text/html": [
       "<div>\n",
       "<style scoped>\n",
       "    .dataframe tbody tr th:only-of-type {\n",
       "        vertical-align: middle;\n",
       "    }\n",
       "\n",
       "    .dataframe tbody tr th {\n",
       "        vertical-align: top;\n",
       "    }\n",
       "\n",
       "    .dataframe thead th {\n",
       "        text-align: right;\n",
       "    }\n",
       "</style>\n",
       "<table border=\"1\" class=\"dataframe\">\n",
       "  <thead>\n",
       "    <tr style=\"text-align: right;\">\n",
       "      <th></th>\n",
       "      <th>track_id</th>\n",
       "      <th>title_billboard</th>\n",
       "      <th>artist_billboard</th>\n",
       "      <th>title_spotify</th>\n",
       "      <th>artist_spotify</th>\n",
       "      <th>key</th>\n",
       "      <th>time_signature</th>\n",
       "      <th>mode</th>\n",
       "      <th>tempo</th>\n",
       "      <th>loudness</th>\n",
       "      <th>duration_ms</th>\n",
       "      <th>energy</th>\n",
       "      <th>valence</th>\n",
       "      <th>genre_list</th>\n",
       "      <th>weeks_list</th>\n",
       "      <th>ranks_list</th>\n",
       "      <th>highest_rank</th>\n",
       "    </tr>\n",
       "  </thead>\n",
       "  <tbody>\n",
       "    <tr>\n",
       "      <th>0</th>\n",
       "      <td>5ayybTSXNwcarDtxQKqvWX</td>\n",
       "      <td>Poor Little Fool</td>\n",
       "      <td>Ricky Nelson</td>\n",
       "      <td>Poor Little Fool - Remastered</td>\n",
       "      <td>Ricky Nelson</td>\n",
       "      <td>0</td>\n",
       "      <td>4</td>\n",
       "      <td>1</td>\n",
       "      <td>154.999</td>\n",
       "      <td>-11.573</td>\n",
       "      <td>153933</td>\n",
       "      <td>0.332</td>\n",
       "      <td>0.795</td>\n",
       "      <td>[adult standards, brill building pop, bubblegu...</td>\n",
       "      <td>[1958-08-08]</td>\n",
       "      <td>[1]</td>\n",
       "      <td>1</td>\n",
       "    </tr>\n",
       "  </tbody>\n",
       "</table>\n",
       "</div>"
      ],
      "text/plain": [
       "                 track_id   title_billboard artist_billboard  \\\n",
       "0  5ayybTSXNwcarDtxQKqvWX  Poor Little Fool     Ricky Nelson   \n",
       "\n",
       "                   title_spotify artist_spotify  key  time_signature  mode  \\\n",
       "0  Poor Little Fool - Remastered   Ricky Nelson    0               4     1   \n",
       "\n",
       "     tempo  loudness  duration_ms  energy  valence  \\\n",
       "0  154.999   -11.573       153933   0.332    0.795   \n",
       "\n",
       "                                          genre_list    weeks_list ranks_list  \\\n",
       "0  [adult standards, brill building pop, bubblegu...  [1958-08-08]        [1]   \n",
       "\n",
       "  highest_rank  \n",
       "0            1  "
      ]
     },
     "execution_count": 4,
     "metadata": {},
     "output_type": "execute_result"
    }
   ],
   "source": [
    "df.head(1)"
   ]
  },
  {
   "cell_type": "code",
   "execution_count": 5,
   "metadata": {},
   "outputs": [
    {
     "data": {
      "text/plain": [
       "19098"
      ]
     },
     "execution_count": 5,
     "metadata": {},
     "output_type": "execute_result"
    }
   ],
   "source": [
    "len(df)"
   ]
  },
  {
   "cell_type": "code",
   "execution_count": 6,
   "metadata": {},
   "outputs": [],
   "source": [
    "df['#weeks'] = 0\n",
    "\n",
    "for ind, row in df.iterrows():\n",
    "    df['#weeks'][ind] = len(row['weeks_list'])"
   ]
  },
  {
   "cell_type": "code",
   "execution_count": 6,
   "metadata": {},
   "outputs": [],
   "source": [
    "sns.set(rc={'figure.figsize':(10,7)})\n",
    "sns.set_style(\"ticks\")"
   ]
  },
  {
   "cell_type": "code",
   "execution_count": 7,
   "metadata": {
    "collapsed": true
   },
   "outputs": [
    {
     "data": {
      "text/plain": [
       "1      736\n",
       "2     1051\n",
       "3     1170\n",
       "4     1203\n",
       "5     1326\n",
       "6     1489\n",
       "7     1493\n",
       "8     1356\n",
       "9     1162\n",
       "10    1100\n",
       "11    1018\n",
       "12     971\n",
       "13     837\n",
       "14     711\n",
       "15     633\n",
       "16     495\n",
       "17     437\n",
       "18     500\n",
       "19     424\n",
       "20     259\n",
       "21     183\n",
       "22     132\n",
       "23     116\n",
       "24      77\n",
       "25      72\n",
       "26      36\n",
       "27      31\n",
       "28      21\n",
       "29       7\n",
       "30       5\n",
       "31       8\n",
       "32       6\n",
       "33       4\n",
       "34       2\n",
       "35       5\n",
       "36       3\n",
       "37       6\n",
       "38       3\n",
       "39       2\n",
       "40       2\n",
       "41       3\n",
       "42       2\n",
       "53       1\n",
       "Name: #weeks, dtype: int64"
      ]
     },
     "execution_count": 7,
     "metadata": {},
     "output_type": "execute_result"
    }
   ],
   "source": [
    "df['#weeks'].value_counts().sort_index(\n",
    "    ascending = True)"
   ]
  },
  {
   "cell_type": "code",
   "execution_count": 8,
   "metadata": {},
   "outputs": [
    {
     "data": {
      "text/plain": [
       "177700"
      ]
     },
     "execution_count": 8,
     "metadata": {},
     "output_type": "execute_result"
    }
   ],
   "source": [
    "df['#weeks'].sum()"
   ]
  },
  {
   "cell_type": "code",
   "execution_count": 9,
   "metadata": {},
   "outputs": [
    {
     "data": {
      "image/png": "[encoded data removed]",
      "text/plain": [
       "<Figure size 720x504 with 1 Axes>"
      ]
     },
     "metadata": {},
     "output_type": "display_data"
    }
   ],
   "source": [
    "df_ = df['#weeks'].value_counts().sort_index(\n",
    "    ascending = True).reset_index()['#weeks']\n",
    "plt.semilogy(df_.index, df_.values, '.-')\n",
    "plt.xlabel('Number of weeks on chart')\n",
    "plt.ylabel('Number of songs')\n",
    "plt.title('Number of weeks accumulated on the chart per song \\n')\n",
    "plt;"
   ]
  },
  {
   "cell_type": "code",
   "execution_count": null,
   "metadata": {},
   "outputs": [],
   "source": [
    "df_ = df['#weeks'].value_counts().sort_index(\n",
    "    ascending = True).reset_index()['#weeks']\n",
    "plt.semilogy(df_.index, df_.values, '.-')\n",
    "plt.xlabel('Number of weeks on chart')\n",
    "plt.ylabel('Number of songs')\n",
    "plt.title('Number of weeks accumulated on the chart per song \\n')\n",
    "plt;"
   ]
  },
  {
   "cell_type": "code",
   "execution_count": 50,
   "metadata": {},
   "outputs": [
    {
     "data": {
      "image/png": "[encoded data removed]",
      "text/plain": [
       "<Figure size 720x504 with 1 Axes>"
      ]
     },
     "metadata": {},
     "output_type": "display_data"
    }
   ],
   "source": [
    "df_ = df['key'].value_counts().sort_index(\n",
    "    ascending = True).reset_index()['key'][1:]\n",
    "plt.bar(df_.index, df_.values)\n",
    "plt.xlabel('\\n Root (according to standard pitch class notaion)')\n",
    "\n",
    "plt.xticks(np.arange(1, 13), ['C', 'C#, Db', 'D', 'D#, Eb', 'E', 'F', 'F#, Gb', 'G', 'G#, Ab', 'A',\n",
    "                          'A#, Bb', 'B'])\n",
    "\n",
    "plt.ylabel('Number of songs')\n",
    "plt.title('Distribution of songs per root \\n')\n",
    "plt;"
   ]
  },
  {
   "cell_type": "code",
   "execution_count": 36,
   "metadata": {},
   "outputs": [],
   "source": [
    "sns.set(rc={'figure.figsize':(5,7)})\n",
    "sns.set_style(\"ticks\")"
   ]
  },
  {
   "cell_type": "code",
   "execution_count": 37,
   "metadata": {},
   "outputs": [
    {
     "data": {
      "image/png": "[encoded data removed]",
      "text/plain": [
       "<Figure size 360x504 with 1 Axes>"
      ]
     },
     "metadata": {},
     "output_type": "display_data"
    }
   ],
   "source": [
    "df_ = df[df['time_signature'] != -1]\n",
    "df_ = df_[df_['time_signature'] != 1]\n",
    "df_ = df_['time_signature'].value_counts().sort_index(\n",
    "    ascending = True).reset_index()['time_signature']\n",
    "plt.bar(df_.index, df_.values)\n",
    "plt.xlabel('Time signature')\n",
    "\n",
    "plt.xticks([0, 1, 2], [3, 4, 5])\n",
    "\n",
    "plt.ylabel('Number of songs')\n",
    "plt.title('Distribution of songs per time signature \\n')\n",
    "plt;"
   ]
  },
  {
   "cell_type": "code",
   "execution_count": 29,
   "metadata": {},
   "outputs": [
    {
     "data": {
      "text/plain": [
       "0     1137\n",
       "1    13357\n",
       "2       51\n",
       "Name: time_signature, dtype: int64"
      ]
     },
     "execution_count": 29,
     "metadata": {},
     "output_type": "execute_result"
    }
   ],
   "source": [
    "df_"
   ]
  },
  {
   "cell_type": "code",
   "execution_count": 38,
   "metadata": {},
   "outputs": [],
   "source": [
    "sns.set(rc={'figure.figsize':(3,7)})\n",
    "sns.set_style(\"ticks\")"
   ]
  },
  {
   "cell_type": "code",
   "execution_count": 39,
   "metadata": {},
   "outputs": [
    {
     "data": {
      "image/png": "[encoded data removed]",
      "text/plain": [
       "<Figure size 216x504 with 1 Axes>"
      ]
     },
     "metadata": {},
     "output_type": "display_data"
    }
   ],
   "source": [
    "df_ = df[df['mode'] != -1]\n",
    "df_ = df_['mode'].value_counts().sort_index(\n",
    "    ascending = True).reset_index()['mode']\n",
    "plt.bar(df_.index, df_.values)\n",
    "plt.xlabel('Time signature')\n",
    "\n",
    "plt.xticks([0, 1], ['minor', 'major'])\n",
    "\n",
    "plt.ylabel('Number of songs')\n",
    "plt.title('Distribution of songs per mode \\n')\n",
    "plt;"
   ]
  },
  {
   "cell_type": "code",
   "execution_count": 40,
   "metadata": {},
   "outputs": [
    {
     "data": {
      "text/html": [
       "<div>\n",
       "<style scoped>\n",
       "    .dataframe tbody tr th:only-of-type {\n",
       "        vertical-align: middle;\n",
       "    }\n",
       "\n",
       "    .dataframe tbody tr th {\n",
       "        vertical-align: top;\n",
       "    }\n",
       "\n",
       "    .dataframe thead th {\n",
       "        text-align: right;\n",
       "    }\n",
       "</style>\n",
       "<table border=\"1\" class=\"dataframe\">\n",
       "  <thead>\n",
       "    <tr style=\"text-align: right;\">\n",
       "      <th></th>\n",
       "      <th>tempo</th>\n",
       "      <th>loudness</th>\n",
       "      <th>duration_ms</th>\n",
       "      <th>energy</th>\n",
       "      <th>valence</th>\n",
       "    </tr>\n",
       "  </thead>\n",
       "  <tbody>\n",
       "    <tr>\n",
       "      <th>count</th>\n",
       "      <td>19098.000000</td>\n",
       "      <td>19098.000000</td>\n",
       "      <td>1.909800e+04</td>\n",
       "      <td>19098.000000</td>\n",
       "      <td>19098.000000</td>\n",
       "    </tr>\n",
       "    <tr>\n",
       "      <th>mean</th>\n",
       "      <td>91.358153</td>\n",
       "      <td>-8.001855</td>\n",
       "      <td>1.664485e+05</td>\n",
       "      <td>0.212130</td>\n",
       "      <td>0.266076</td>\n",
       "    </tr>\n",
       "    <tr>\n",
       "      <th>std</th>\n",
       "      <td>56.376115</td>\n",
       "      <td>4.892483</td>\n",
       "      <td>1.156890e+05</td>\n",
       "      <td>0.695215</td>\n",
       "      <td>0.730309</td>\n",
       "    </tr>\n",
       "    <tr>\n",
       "      <th>min</th>\n",
       "      <td>-1.000000</td>\n",
       "      <td>-29.467000</td>\n",
       "      <td>-1.000000e+00</td>\n",
       "      <td>-1.000000</td>\n",
       "      <td>-1.000000</td>\n",
       "    </tr>\n",
       "    <tr>\n",
       "      <th>25%</th>\n",
       "      <td>73.745250</td>\n",
       "      <td>-11.508000</td>\n",
       "      <td>1.204432e+05</td>\n",
       "      <td>0.172000</td>\n",
       "      <td>0.151250</td>\n",
       "    </tr>\n",
       "    <tr>\n",
       "      <th>50%</th>\n",
       "      <td>108.498500</td>\n",
       "      <td>-8.624000</td>\n",
       "      <td>1.763065e+05</td>\n",
       "      <td>0.495500</td>\n",
       "      <td>0.575000</td>\n",
       "    </tr>\n",
       "    <tr>\n",
       "      <th>75%</th>\n",
       "      <td>128.098500</td>\n",
       "      <td>-4.022750</td>\n",
       "      <td>2.387650e+05</td>\n",
       "      <td>0.696000</td>\n",
       "      <td>0.805000</td>\n",
       "    </tr>\n",
       "    <tr>\n",
       "      <th>max</th>\n",
       "      <td>241.009000</td>\n",
       "      <td>2.291000</td>\n",
       "      <td>3.079158e+06</td>\n",
       "      <td>0.997000</td>\n",
       "      <td>1.000000</td>\n",
       "    </tr>\n",
       "  </tbody>\n",
       "</table>\n",
       "</div>"
      ],
      "text/plain": [
       "              tempo      loudness   duration_ms        energy       valence\n",
       "count  19098.000000  19098.000000  1.909800e+04  19098.000000  19098.000000\n",
       "mean      91.358153     -8.001855  1.664485e+05      0.212130      0.266076\n",
       "std       56.376115      4.892483  1.156890e+05      0.695215      0.730309\n",
       "min       -1.000000    -29.467000 -1.000000e+00     -1.000000     -1.000000\n",
       "25%       73.745250    -11.508000  1.204432e+05      0.172000      0.151250\n",
       "50%      108.498500     -8.624000  1.763065e+05      0.495500      0.575000\n",
       "75%      128.098500     -4.022750  2.387650e+05      0.696000      0.805000\n",
       "max      241.009000      2.291000  3.079158e+06      0.997000      1.000000"
      ]
     },
     "execution_count": 40,
     "metadata": {},
     "output_type": "execute_result"
    }
   ],
   "source": [
    "df[['tempo', 'loudness', 'duration_ms', 'energy', 'valence']].describe()"
   ]
  },
  {
   "cell_type": "code",
   "execution_count": 41,
   "metadata": {},
   "outputs": [
    {
     "data": {
      "text/plain": [
       " 1    11165\n",
       "-1     4486\n",
       " 0     3447\n",
       "Name: mode, dtype: int64"
      ]
     },
     "execution_count": 41,
     "metadata": {},
     "output_type": "execute_result"
    }
   ],
   "source": [
    "df['mode'].value_counts()"
   ]
  },
  {
   "cell_type": "code",
   "execution_count": 42,
   "metadata": {},
   "outputs": [
    {
     "data": {
      "text/plain": [
       " 4    13357\n",
       "-1     4486\n",
       " 3     1137\n",
       " 1       67\n",
       " 5       51\n",
       "Name: time_signature, dtype: int64"
      ]
     },
     "execution_count": 42,
     "metadata": {},
     "output_type": "execute_result"
    }
   ],
   "source": [
    "df['time_signature'].value_counts()"
   ]
  },
  {
   "cell_type": "code",
   "execution_count": 43,
   "metadata": {},
   "outputs": [],
   "source": [
    "df['year'] = 0"
   ]
  },
  {
   "cell_type": "code",
   "execution_count": 44,
   "metadata": {},
   "outputs": [],
   "source": [
    "for ind, row in df.iterrows():\n",
    "    df['year'][ind] "
   ]
  },
  {
   "cell_type": "code",
   "execution_count": 45,
   "metadata": {},
   "outputs": [
    {
     "data": {
      "text/html": [
       "<div>\n",
       "<style scoped>\n",
       "    .dataframe tbody tr th:only-of-type {\n",
       "        vertical-align: middle;\n",
       "    }\n",
       "\n",
       "    .dataframe tbody tr th {\n",
       "        vertical-align: top;\n",
       "    }\n",
       "\n",
       "    .dataframe thead th {\n",
       "        text-align: right;\n",
       "    }\n",
       "</style>\n",
       "<table border=\"1\" class=\"dataframe\">\n",
       "  <thead>\n",
       "    <tr style=\"text-align: right;\">\n",
       "      <th></th>\n",
       "      <th>track_id</th>\n",
       "      <th>title_billboard</th>\n",
       "      <th>artist_billboard</th>\n",
       "      <th>title_spotify</th>\n",
       "      <th>artist_spotify</th>\n",
       "      <th>key</th>\n",
       "      <th>time_signature</th>\n",
       "      <th>mode</th>\n",
       "      <th>tempo</th>\n",
       "      <th>loudness</th>\n",
       "      <th>duration_ms</th>\n",
       "      <th>energy</th>\n",
       "      <th>valence</th>\n",
       "      <th>genre_list</th>\n",
       "      <th>weeks_list</th>\n",
       "      <th>ranks_list</th>\n",
       "      <th>highest_rank</th>\n",
       "      <th>#weeks</th>\n",
       "      <th>year</th>\n",
       "    </tr>\n",
       "  </thead>\n",
       "  <tbody>\n",
       "    <tr>\n",
       "      <th>0</th>\n",
       "      <td>5ayybTSXNwcarDtxQKqvWX</td>\n",
       "      <td>Poor Little Fool</td>\n",
       "      <td>Ricky Nelson</td>\n",
       "      <td>Poor Little Fool - Remastered</td>\n",
       "      <td>Ricky Nelson</td>\n",
       "      <td>0</td>\n",
       "      <td>4</td>\n",
       "      <td>1</td>\n",
       "      <td>154.999</td>\n",
       "      <td>-11.573</td>\n",
       "      <td>153933</td>\n",
       "      <td>0.332</td>\n",
       "      <td>0.795</td>\n",
       "      <td>[adult standards, brill building pop, bubblegu...</td>\n",
       "      <td>[1958-08-08]</td>\n",
       "      <td>[1]</td>\n",
       "      <td>1</td>\n",
       "      <td>1</td>\n",
       "      <td>0</td>\n",
       "    </tr>\n",
       "    <tr>\n",
       "      <th>1</th>\n",
       "      <td>205EtD8tQnHDXMkmtYiaHF</td>\n",
       "      <td>Patricia</td>\n",
       "      <td>Perez Prado And His Orchestra</td>\n",
       "      <td>Patricia</td>\n",
       "      <td>Pérez Prado</td>\n",
       "      <td>1</td>\n",
       "      <td>4</td>\n",
       "      <td>1</td>\n",
       "      <td>137.396</td>\n",
       "      <td>-9.522</td>\n",
       "      <td>140867</td>\n",
       "      <td>0.638</td>\n",
       "      <td>0.837</td>\n",
       "      <td>[bolero, cuban rumba, latin jazz, lounge, mamb...</td>\n",
       "      <td>[1958-08-08]</td>\n",
       "      <td>[3]</td>\n",
       "      <td>3</td>\n",
       "      <td>1</td>\n",
       "      <td>0</td>\n",
       "    </tr>\n",
       "    <tr>\n",
       "      <th>2</th>\n",
       "      <td>1TRBNskaco4d6OQ9uVY7rz</td>\n",
       "      <td>Ginger Bread</td>\n",
       "      <td>Frankie Avalon</td>\n",
       "      <td>Ginger Bread</td>\n",
       "      <td>Frankie Avalon</td>\n",
       "      <td>8</td>\n",
       "      <td>4</td>\n",
       "      <td>1</td>\n",
       "      <td>147.226</td>\n",
       "      <td>-12.136</td>\n",
       "      <td>123653</td>\n",
       "      <td>0.623</td>\n",
       "      <td>0.976</td>\n",
       "      <td>[adult standards, brill building pop, christma...</td>\n",
       "      <td>[1958-08-08]</td>\n",
       "      <td>[15]</td>\n",
       "      <td>15</td>\n",
       "      <td>1</td>\n",
       "      <td>0</td>\n",
       "    </tr>\n",
       "    <tr>\n",
       "      <th>3</th>\n",
       "      <td>6fb0Yo4q22mmf0XCkIh2dO</td>\n",
       "      <td>Susie Darlin'</td>\n",
       "      <td>Robin Luke</td>\n",
       "      <td>Susie Darlin' - Re-Recording</td>\n",
       "      <td>Robin Luke</td>\n",
       "      <td>9</td>\n",
       "      <td>4</td>\n",
       "      <td>1</td>\n",
       "      <td>123.094</td>\n",
       "      <td>-13.681</td>\n",
       "      <td>153920</td>\n",
       "      <td>0.325</td>\n",
       "      <td>0.816</td>\n",
       "      <td>[]</td>\n",
       "      <td>[1958-08-08]</td>\n",
       "      <td>[42]</td>\n",
       "      <td>42</td>\n",
       "      <td>1</td>\n",
       "      <td>0</td>\n",
       "    </tr>\n",
       "    <tr>\n",
       "      <th>4</th>\n",
       "      <td>0dc0eU5THc1uE0Q0KV73XN</td>\n",
       "      <td>Please Help Me, I'm Falling</td>\n",
       "      <td>Hank Locklin</td>\n",
       "      <td>Please Help Me, I'm Falling</td>\n",
       "      <td>Hank Locklin</td>\n",
       "      <td>7</td>\n",
       "      <td>4</td>\n",
       "      <td>1</td>\n",
       "      <td>105.479</td>\n",
       "      <td>-10.712</td>\n",
       "      <td>141467</td>\n",
       "      <td>0.336</td>\n",
       "      <td>0.553</td>\n",
       "      <td>[country gospel, cowboy western, nashville sou...</td>\n",
       "      <td>[1960-05-22, 1960-06-01, 1960-06-08, 1960-06-1...</td>\n",
       "      <td>[77,  ,  42,  ,  38,  ,  34,  ,  24,  ,  16,  ...</td>\n",
       "      <td></td>\n",
       "      <td>20</td>\n",
       "      <td>0</td>\n",
       "    </tr>\n",
       "  </tbody>\n",
       "</table>\n",
       "</div>"
      ],
      "text/plain": [
       "                 track_id              title_billboard  \\\n",
       "0  5ayybTSXNwcarDtxQKqvWX             Poor Little Fool   \n",
       "1  205EtD8tQnHDXMkmtYiaHF                     Patricia   \n",
       "2  1TRBNskaco4d6OQ9uVY7rz                 Ginger Bread   \n",
       "3  6fb0Yo4q22mmf0XCkIh2dO                Susie Darlin'   \n",
       "4  0dc0eU5THc1uE0Q0KV73XN  Please Help Me, I'm Falling   \n",
       "\n",
       "                artist_billboard                  title_spotify  \\\n",
       "0                   Ricky Nelson  Poor Little Fool - Remastered   \n",
       "1  Perez Prado And His Orchestra                       Patricia   \n",
       "2                 Frankie Avalon                   Ginger Bread   \n",
       "3                     Robin Luke   Susie Darlin' - Re-Recording   \n",
       "4                   Hank Locklin    Please Help Me, I'm Falling   \n",
       "\n",
       "   artist_spotify  key  time_signature  mode    tempo  loudness  duration_ms  \\\n",
       "0    Ricky Nelson    0               4     1  154.999   -11.573       153933   \n",
       "1     Pérez Prado    1               4     1  137.396    -9.522       140867   \n",
       "2  Frankie Avalon    8               4     1  147.226   -12.136       123653   \n",
       "3      Robin Luke    9               4     1  123.094   -13.681       153920   \n",
       "4    Hank Locklin    7               4     1  105.479   -10.712       141467   \n",
       "\n",
       "   energy  valence                                         genre_list  \\\n",
       "0   0.332    0.795  [adult standards, brill building pop, bubblegu...   \n",
       "1   0.638    0.837  [bolero, cuban rumba, latin jazz, lounge, mamb...   \n",
       "2   0.623    0.976  [adult standards, brill building pop, christma...   \n",
       "3   0.325    0.816                                                 []   \n",
       "4   0.336    0.553  [country gospel, cowboy western, nashville sou...   \n",
       "\n",
       "                                          weeks_list  \\\n",
       "0                                       [1958-08-08]   \n",
       "1                                       [1958-08-08]   \n",
       "2                                       [1958-08-08]   \n",
       "3                                       [1958-08-08]   \n",
       "4  [1960-05-22, 1960-06-01, 1960-06-08, 1960-06-1...   \n",
       "\n",
       "                                          ranks_list highest_rank  #weeks  \\\n",
       "0                                                [1]            1       1   \n",
       "1                                                [3]            3       1   \n",
       "2                                               [15]           15       1   \n",
       "3                                               [42]           42       1   \n",
       "4  [77,  ,  42,  ,  38,  ,  34,  ,  24,  ,  16,  ...                   20   \n",
       "\n",
       "   year  \n",
       "0     0  \n",
       "1     0  \n",
       "2     0  \n",
       "3     0  \n",
       "4     0  "
      ]
     },
     "execution_count": 45,
     "metadata": {},
     "output_type": "execute_result"
    }
   ],
   "source": [
    "df.head()"
   ]
  },
  {
   "cell_type": "code",
   "execution_count": 47,
   "metadata": {},
   "outputs": [
    {
     "data": {
      "text/plain": [
       "14612"
      ]
     },
     "execution_count": 47,
     "metadata": {},
     "output_type": "execute_result"
    }
   ],
   "source": [
    "df_ = df[['mode', 'time_signature', 'tempo', 'loudness', 'duration_ms', 'energy', 'valence']]\n",
    "df_ = df_[df_['mode'] != -1]\n",
    "df_ = df_[df_['time_signature'] != -1]\n",
    "df_ = df_.dropna()\n",
    "len(df_)"
   ]
  },
  {
   "cell_type": "code",
   "execution_count": 48,
   "metadata": {},
   "outputs": [
    {
     "data": {
      "image/png": "[encoded data removed]",
      "text/plain": [
       "<Figure size 720x504 with 2 Axes>"
      ]
     },
     "metadata": {},
     "output_type": "display_data"
    }
   ],
   "source": [
    "sns.heatmap(df_.corr(), annot=True).set_title('Features correlation matrix \\n');"
   ]
  },
  {
   "cell_type": "code",
   "execution_count": 9,
   "metadata": {},
   "outputs": [
    {
     "data": {
      "text/html": [
       "<div>\n",
       "<style scoped>\n",
       "    .dataframe tbody tr th:only-of-type {\n",
       "        vertical-align: middle;\n",
       "    }\n",
       "\n",
       "    .dataframe tbody tr th {\n",
       "        vertical-align: top;\n",
       "    }\n",
       "\n",
       "    .dataframe thead th {\n",
       "        text-align: right;\n",
       "    }\n",
       "</style>\n",
       "<table border=\"1\" class=\"dataframe\">\n",
       "  <thead>\n",
       "    <tr style=\"text-align: right;\">\n",
       "      <th></th>\n",
       "      <th>track_id</th>\n",
       "      <th>title_billboard</th>\n",
       "      <th>artist_billboard</th>\n",
       "      <th>title_spotify</th>\n",
       "      <th>artist_spotify</th>\n",
       "      <th>key</th>\n",
       "      <th>time_signature</th>\n",
       "      <th>mode</th>\n",
       "      <th>tempo</th>\n",
       "      <th>loudness</th>\n",
       "      <th>duration_ms</th>\n",
       "      <th>energy</th>\n",
       "      <th>valence</th>\n",
       "      <th>genre_list</th>\n",
       "      <th>weeks_list</th>\n",
       "      <th>ranks_list</th>\n",
       "      <th>highest_rank</th>\n",
       "      <th>#weeks</th>\n",
       "    </tr>\n",
       "  </thead>\n",
       "  <tbody>\n",
       "    <tr>\n",
       "      <th>0</th>\n",
       "      <td>5ayybTSXNwcarDtxQKqvWX</td>\n",
       "      <td>Poor Little Fool</td>\n",
       "      <td>Ricky Nelson</td>\n",
       "      <td>Poor Little Fool - Remastered</td>\n",
       "      <td>Ricky Nelson</td>\n",
       "      <td>0</td>\n",
       "      <td>4</td>\n",
       "      <td>1</td>\n",
       "      <td>154.999</td>\n",
       "      <td>-11.573</td>\n",
       "      <td>153933</td>\n",
       "      <td>0.332</td>\n",
       "      <td>0.795</td>\n",
       "      <td>[adult standards, brill building pop, bubblegu...</td>\n",
       "      <td>[1958-08-08]</td>\n",
       "      <td>[1]</td>\n",
       "      <td>1</td>\n",
       "      <td>1</td>\n",
       "    </tr>\n",
       "  </tbody>\n",
       "</table>\n",
       "</div>"
      ],
      "text/plain": [
       "                 track_id   title_billboard artist_billboard  \\\n",
       "0  5ayybTSXNwcarDtxQKqvWX  Poor Little Fool     Ricky Nelson   \n",
       "\n",
       "                   title_spotify artist_spotify  key  time_signature  mode  \\\n",
       "0  Poor Little Fool - Remastered   Ricky Nelson    0               4     1   \n",
       "\n",
       "     tempo  loudness  duration_ms  energy  valence  \\\n",
       "0  154.999   -11.573       153933   0.332    0.795   \n",
       "\n",
       "                                          genre_list    weeks_list ranks_list  \\\n",
       "0  [adult standards, brill building pop, bubblegu...  [1958-08-08]        [1]   \n",
       "\n",
       "  highest_rank  #weeks  \n",
       "0            1       1  "
      ]
     },
     "execution_count": 9,
     "metadata": {},
     "output_type": "execute_result"
    }
   ],
   "source": [
    "df.head(1)"
   ]
  },
  {
   "cell_type": "code",
   "execution_count": 23,
   "metadata": {},
   "outputs": [],
   "source": [
    "years = []\n",
    "for ind, item in df['weeks_list'].iteritems():\n",
    "    years.append(int(item[0][:4]))"
   ]
  },
  {
   "cell_type": "code",
   "execution_count": 24,
   "metadata": {},
   "outputs": [],
   "source": [
    "years = pd.Series(years).value_counts().sort_index()[1:]"
   ]
  },
  {
   "cell_type": "code",
   "execution_count": 32,
   "metadata": {},
   "outputs": [
    {
     "data": {
      "image/png": "[encoded data removed]",
      "text/plain": [
       "<Figure size 720x504 with 1 Axes>"
      ]
     },
     "metadata": {},
     "output_type": "display_data"
    }
   ],
   "source": [
    "plt.plot(years.index, years.values, '.-')\n",
    "plt.xlabel('\\n Years')\n",
    "plt.ylabel('Number of songs')\n",
    "plt.title('Distribution of songs per year \\n')\n",
    "plt.xticks(np.arange(1959, 1996), np.arange(1959, 1996), rotation = '90')\n",
    "plt;"
   ]
  },
  {
   "cell_type": "code",
   "execution_count": null,
   "metadata": {},
   "outputs": [],
   "source": [
    "lower_bound, mean, upper_bound = [], [], []\n",
    "\n",
    "# Compute the 95% confidence interval\n",
    "for week in range(len(features['duration_ms'])):\n",
    "    m, lb, ub = mean_confidence_interval(features['duration_ms'][week])\n",
    "    \n",
    "    lower_bound.append(lb)\n",
    "    mean.append(m)\n",
    "    upper_bound.append(ub)"
   ]
  },
  {
   "cell_type": "code",
   "execution_count": null,
   "metadata": {},
   "outputs": [],
   "source": []
  },
  {
   "cell_type": "code",
   "execution_count": null,
   "metadata": {},
   "outputs": [],
   "source": []
  },
  {
   "cell_type": "code",
   "execution_count": null,
   "metadata": {},
   "outputs": [],
   "source": []
  }
 ],
 "metadata": {
  "kernelspec": {
   "display_name": "Python 3",
   "language": "python",
   "name": "python3"
  },
  "language_info": {
   "codemirror_mode": {
    "name": "ipython",
    "version": 3
   },
   "file_extension": ".py",
   "mimetype": "text/x-python",
   "name": "python",
   "nbconvert_exporter": "python",
   "pygments_lexer": "ipython3",
   "version": "3.6.7"
  }
 },
 "nbformat": 4,
 "nbformat_minor": 2
}
