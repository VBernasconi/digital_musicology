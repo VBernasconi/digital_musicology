{
 "cells": [
  {
   "cell_type": "code",
   "execution_count": 1,
   "metadata": {},
   "outputs": [],
   "source": [
    "import re\n",
    "import pandas as pd\n",
    "import numpy as np\n",
    "import matplotlib.pyplot as plt\n",
    "import scipy.stats\n",
    "import seaborn as sns\n",
    "\n",
    "import warnings\n",
    "warnings.filterwarnings(\"ignore\")\n",
    "pd.options.mode.chained_assignment = None"
   ]
  },
  {
   "cell_type": "code",
   "execution_count": 13,
   "metadata": {},
   "outputs": [],
   "source": [
    "df = pd.read_json('json/corpus.json')\n",
    "df = df.reset_index().drop(columns = ['index'])"
   ]
  },
  {
   "cell_type": "code",
   "execution_count": 18,
   "metadata": {},
   "outputs": [
    {
     "data": {
      "text/html": [
       "<div>\n",
       "<style scoped>\n",
       "    .dataframe tbody tr th:only-of-type {\n",
       "        vertical-align: middle;\n",
       "    }\n",
       "\n",
       "    .dataframe tbody tr th {\n",
       "        vertical-align: top;\n",
       "    }\n",
       "\n",
       "    .dataframe thead th {\n",
       "        text-align: right;\n",
       "    }\n",
       "</style>\n",
       "<table border=\"1\" class=\"dataframe\">\n",
       "  <thead>\n",
       "    <tr style=\"text-align: right;\">\n",
       "      <th></th>\n",
       "      <th>track_id</th>\n",
       "      <th>title_billboard</th>\n",
       "      <th>artist_billboard</th>\n",
       "      <th>title_spotify</th>\n",
       "      <th>artist_spotify</th>\n",
       "      <th>key</th>\n",
       "      <th>time_signature</th>\n",
       "      <th>mode</th>\n",
       "      <th>tempo</th>\n",
       "      <th>loudness</th>\n",
       "      <th>duration_ms</th>\n",
       "      <th>energy</th>\n",
       "      <th>valence</th>\n",
       "      <th>genre_list</th>\n",
       "      <th>weeks_list</th>\n",
       "      <th>ranks_list</th>\n",
       "      <th>highest_rank</th>\n",
       "    </tr>\n",
       "  </thead>\n",
       "  <tbody>\n",
       "    <tr>\n",
       "      <th>0</th>\n",
       "      <td>5ayybTSXNwcarDtxQKqvWX</td>\n",
       "      <td>Poor Little Fool</td>\n",
       "      <td>Ricky Nelson</td>\n",
       "      <td>Poor Little Fool - Remastered</td>\n",
       "      <td>Ricky Nelson</td>\n",
       "      <td>0</td>\n",
       "      <td>4</td>\n",
       "      <td>1</td>\n",
       "      <td>154.999</td>\n",
       "      <td>-11.573</td>\n",
       "      <td>153933</td>\n",
       "      <td>0.332</td>\n",
       "      <td>0.795</td>\n",
       "      <td>[adult standards, brill building pop, bubblegu...</td>\n",
       "      <td>[1958-08-08]</td>\n",
       "      <td>[1]</td>\n",
       "      <td>1</td>\n",
       "    </tr>\n",
       "  </tbody>\n",
       "</table>\n",
       "</div>"
      ],
      "text/plain": [
       "                 track_id   title_billboard artist_billboard  \\\n",
       "0  5ayybTSXNwcarDtxQKqvWX  Poor Little Fool     Ricky Nelson   \n",
       "\n",
       "                   title_spotify artist_spotify  key  time_signature  mode  \\\n",
       "0  Poor Little Fool - Remastered   Ricky Nelson    0               4     1   \n",
       "\n",
       "     tempo  loudness  duration_ms  energy  valence  \\\n",
       "0  154.999   -11.573       153933   0.332    0.795   \n",
       "\n",
       "                                          genre_list    weeks_list ranks_list  \\\n",
       "0  [adult standards, brill building pop, bubblegu...  [1958-08-08]        [1]   \n",
       "\n",
       "  highest_rank  \n",
       "0            1  "
      ]
     },
     "execution_count": 18,
     "metadata": {},
     "output_type": "execute_result"
    }
   ],
   "source": [
    "df.head(1)"
   ]
  },
  {
   "cell_type": "code",
   "execution_count": 86,
   "metadata": {},
   "outputs": [
    {
     "data": {
      "text/plain": [
       "19098"
      ]
     },
     "execution_count": 86,
     "metadata": {},
     "output_type": "execute_result"
    }
   ],
   "source": [
    "len(df)"
   ]
  },
  {
   "cell_type": "code",
   "execution_count": 19,
   "metadata": {},
   "outputs": [],
   "source": [
    "df['#weeks'] = 0\n",
    "\n",
    "for ind, row in df.iterrows():\n",
    "    df['#weeks'][ind] = len(row['weeks_list'])"
   ]
  },
  {
   "cell_type": "code",
   "execution_count": 21,
   "metadata": {},
   "outputs": [],
   "source": [
    "sns.set(rc={'figure.figsize':(10,7)})\n",
    "sns.set_style(\"ticks\")"
   ]
  },
  {
   "cell_type": "code",
   "execution_count": 31,
   "metadata": {
    "collapsed": true
   },
   "outputs": [
    {
     "data": {
      "text/plain": [
       "1      736\n",
       "2     1051\n",
       "3     1170\n",
       "4     1203\n",
       "5     1326\n",
       "6     1489\n",
       "7     1493\n",
       "8     1356\n",
       "9     1162\n",
       "10    1100\n",
       "11    1018\n",
       "12     971\n",
       "13     837\n",
       "14     711\n",
       "15     633\n",
       "16     495\n",
       "17     437\n",
       "18     500\n",
       "19     424\n",
       "20     259\n",
       "21     183\n",
       "22     132\n",
       "23     116\n",
       "24      77\n",
       "25      72\n",
       "26      36\n",
       "27      31\n",
       "28      21\n",
       "29       7\n",
       "30       5\n",
       "31       8\n",
       "32       6\n",
       "33       4\n",
       "34       2\n",
       "35       5\n",
       "36       3\n",
       "37       6\n",
       "38       3\n",
       "39       2\n",
       "40       2\n",
       "41       3\n",
       "42       2\n",
       "53       1\n",
       "Name: #weeks, dtype: int64"
      ]
     },
     "execution_count": 31,
     "metadata": {},
     "output_type": "execute_result"
    }
   ],
   "source": [
    "df['#weeks'].value_counts().sort_index(\n",
    "    ascending = True)"
   ]
  },
  {
   "cell_type": "code",
   "execution_count": 92,
   "metadata": {},
   "outputs": [
    {
     "data": {
      "text/plain": [
       "177700"
      ]
     },
     "execution_count": 92,
     "metadata": {},
     "output_type": "execute_result"
    }
   ],
   "source": [
    "df['#weeks'].sum()"
   ]
  },
  {
   "cell_type": "code",
   "execution_count": 41,
   "metadata": {},
   "outputs": [
    {
     "data": {
      "image/png": "[encoded data removed]",
      "text/plain": [
       "<Figure size 720x504 with 1 Axes>"
      ]
     },
     "metadata": {},
     "output_type": "display_data"
    }
   ],
   "source": [
    "df_ = df['#weeks'].value_counts().sort_index(\n",
    "    ascending = True).reset_index()['#weeks']\n",
    "plt.semilogy(df_.index, df_.values, '.-')\n",
    "plt.xlabel('Number of weeks on chart')\n",
    "plt.ylabel('Number of songs')\n",
    "plt.title('Number of weeks accumulated on the chart per song \\n')\n",
    "plt;"
   ]
  },
  {
   "cell_type": "code",
   "execution_count": 64,
   "metadata": {},
   "outputs": [
    {
     "data": {
      "image/png": "[encoded data removed]",
      "text/plain": [
       "<Figure size 720x504 with 1 Axes>"
      ]
     },
     "metadata": {},
     "output_type": "display_data"
    }
   ],
   "source": [
    "df_ = df['key'].value_counts().sort_index(\n",
    "    ascending = True).reset_index()['key']\n",
    "plt.semilogy(df_.index, df_.values, 'o')\n",
    "plt.xlabel('Key (according to standard pitch class notaion)')\n",
    "\n",
    "plt.xticks(np.arange(13), ['C', 'C#, Db', 'D', 'D#, Eb', 'E', 'F', 'F#, Gb', 'G', 'G#, Ab', 'A',\n",
    "                          'A#, Bb', 'B'])\n",
    "\n",
    "plt.ylabel('Number of songs')\n",
    "plt.title('Distribution of songs per key \\n')\n",
    "plt;"
   ]
  },
  {
   "cell_type": "code",
   "execution_count": 66,
   "metadata": {},
   "outputs": [],
   "source": [
    "sns.set(rc={'figure.figsize':(5,7)})\n",
    "sns.set_style(\"ticks\")"
   ]
  },
  {
   "cell_type": "code",
   "execution_count": 84,
   "metadata": {},
   "outputs": [
    {
     "data": {
      "image/png": "[encoded data removed]",
      "text/plain": [
       "<Figure size 720x504 with 1 Axes>"
      ]
     },
     "metadata": {},
     "output_type": "display_data"
    }
   ],
   "source": [
    "df_ = df[df['time_signature'] != -1]\n",
    "df_ = df_[df_['time_signature'] != 1]\n",
    "df_ = df_['time_signature'].value_counts().sort_index(\n",
    "    ascending = True).reset_index()['time_signature']\n",
    "plt.semilogy(df_.index, df_.values, 'o')\n",
    "plt.xlabel('Time signature')\n",
    "\n",
    "plt.xticks([0, 1, 2], [3, 4, 5])\n",
    "\n",
    "plt.ylabel('Number of songs')\n",
    "plt.title('Distribution of songs per time signature \\n')\n",
    "plt;"
   ]
  },
  {
   "cell_type": "code",
   "execution_count": 85,
   "metadata": {},
   "outputs": [
    {
     "data": {
      "text/plain": [
       "0     1137\n",
       "1    13357\n",
       "2       51\n",
       "Name: time_signature, dtype: int64"
      ]
     },
     "execution_count": 85,
     "metadata": {},
     "output_type": "execute_result"
    }
   ],
   "source": [
    "df_"
   ]
  },
  {
   "cell_type": "code",
   "execution_count": 68,
   "metadata": {},
   "outputs": [],
   "source": [
    "sns.set(rc={'figure.figsize':(3,7)})\n",
    "sns.set_style(\"ticks\")"
   ]
  },
  {
   "cell_type": "code",
   "execution_count": 70,
   "metadata": {},
   "outputs": [
    {
     "data": {
      "image/png": "[encoded data removed]",
      "text/plain": [
       "<Figure size 216x504 with 1 Axes>"
      ]
     },
     "metadata": {},
     "output_type": "display_data"
    }
   ],
   "source": [
    "df_ = df[df['mode'] != -1]\n",
    "df_ = df_['mode'].value_counts().sort_index(\n",
    "    ascending = True).reset_index()['mode']\n",
    "plt.semilogy(df_.index, df_.values, 'o')\n",
    "plt.xlabel('Time signature')\n",
    "\n",
    "plt.xticks([0, 1], ['minor', 'major'])\n",
    "\n",
    "plt.ylabel('Number of songs')\n",
    "plt.title('Distribution of songs per mode \\n')\n",
    "plt;"
   ]
  },
  {
   "cell_type": "code",
   "execution_count": 82,
   "metadata": {},
   "outputs": [
    {
     "data": {
      "text/html": [
       "<div>\n",
       "<style scoped>\n",
       "    .dataframe tbody tr th:only-of-type {\n",
       "        vertical-align: middle;\n",
       "    }\n",
       "\n",
       "    .dataframe tbody tr th {\n",
       "        vertical-align: top;\n",
       "    }\n",
       "\n",
       "    .dataframe thead th {\n",
       "        text-align: right;\n",
       "    }\n",
       "</style>\n",
       "<table border=\"1\" class=\"dataframe\">\n",
       "  <thead>\n",
       "    <tr style=\"text-align: right;\">\n",
       "      <th></th>\n",
       "      <th>tempo</th>\n",
       "      <th>loudness</th>\n",
       "      <th>duration_ms</th>\n",
       "      <th>energy</th>\n",
       "      <th>valence</th>\n",
       "    </tr>\n",
       "  </thead>\n",
       "  <tbody>\n",
       "    <tr>\n",
       "      <th>count</th>\n",
       "      <td>19098.000000</td>\n",
       "      <td>19098.000000</td>\n",
       "      <td>1.909800e+04</td>\n",
       "      <td>19098.000000</td>\n",
       "      <td>19098.000000</td>\n",
       "    </tr>\n",
       "    <tr>\n",
       "      <th>mean</th>\n",
       "      <td>91.358153</td>\n",
       "      <td>-8.001855</td>\n",
       "      <td>1.664485e+05</td>\n",
       "      <td>0.212130</td>\n",
       "      <td>0.266076</td>\n",
       "    </tr>\n",
       "    <tr>\n",
       "      <th>std</th>\n",
       "      <td>56.376115</td>\n",
       "      <td>4.892483</td>\n",
       "      <td>1.156890e+05</td>\n",
       "      <td>0.695215</td>\n",
       "      <td>0.730309</td>\n",
       "    </tr>\n",
       "    <tr>\n",
       "      <th>min</th>\n",
       "      <td>-1.000000</td>\n",
       "      <td>-29.467000</td>\n",
       "      <td>-1.000000e+00</td>\n",
       "      <td>-1.000000</td>\n",
       "      <td>-1.000000</td>\n",
       "    </tr>\n",
       "    <tr>\n",
       "      <th>25%</th>\n",
       "      <td>73.745250</td>\n",
       "      <td>-11.508000</td>\n",
       "      <td>1.204432e+05</td>\n",
       "      <td>0.172000</td>\n",
       "      <td>0.151250</td>\n",
       "    </tr>\n",
       "    <tr>\n",
       "      <th>50%</th>\n",
       "      <td>108.498500</td>\n",
       "      <td>-8.624000</td>\n",
       "      <td>1.763065e+05</td>\n",
       "      <td>0.495500</td>\n",
       "      <td>0.575000</td>\n",
       "    </tr>\n",
       "    <tr>\n",
       "      <th>75%</th>\n",
       "      <td>128.098500</td>\n",
       "      <td>-4.022750</td>\n",
       "      <td>2.387650e+05</td>\n",
       "      <td>0.696000</td>\n",
       "      <td>0.805000</td>\n",
       "    </tr>\n",
       "    <tr>\n",
       "      <th>max</th>\n",
       "      <td>241.009000</td>\n",
       "      <td>2.291000</td>\n",
       "      <td>3.079158e+06</td>\n",
       "      <td>0.997000</td>\n",
       "      <td>1.000000</td>\n",
       "    </tr>\n",
       "  </tbody>\n",
       "</table>\n",
       "</div>"
      ],
      "text/plain": [
       "              tempo      loudness   duration_ms        energy       valence\n",
       "count  19098.000000  19098.000000  1.909800e+04  19098.000000  19098.000000\n",
       "mean      91.358153     -8.001855  1.664485e+05      0.212130      0.266076\n",
       "std       56.376115      4.892483  1.156890e+05      0.695215      0.730309\n",
       "min       -1.000000    -29.467000 -1.000000e+00     -1.000000     -1.000000\n",
       "25%       73.745250    -11.508000  1.204432e+05      0.172000      0.151250\n",
       "50%      108.498500     -8.624000  1.763065e+05      0.495500      0.575000\n",
       "75%      128.098500     -4.022750  2.387650e+05      0.696000      0.805000\n",
       "max      241.009000      2.291000  3.079158e+06      0.997000      1.000000"
      ]
     },
     "execution_count": 82,
     "metadata": {},
     "output_type": "execute_result"
    }
   ],
   "source": [
    "df[['tempo', 'loudness', 'duration_ms', 'energy', 'valence']].describe()"
   ]
  },
  {
   "cell_type": "code",
   "execution_count": 93,
   "metadata": {},
   "outputs": [
    {
     "data": {
      "text/plain": [
       " 1    11165\n",
       "-1     4486\n",
       " 0     3447\n",
       "Name: mode, dtype: int64"
      ]
     },
     "execution_count": 93,
     "metadata": {},
     "output_type": "execute_result"
    }
   ],
   "source": [
    "df['mode'].value_counts()"
   ]
  },
  {
   "cell_type": "code",
   "execution_count": 94,
   "metadata": {},
   "outputs": [
    {
     "data": {
      "text/plain": [
       " 4    13357\n",
       "-1     4486\n",
       " 3     1137\n",
       " 1       67\n",
       " 5       51\n",
       "Name: time_signature, dtype: int64"
      ]
     },
     "execution_count": 94,
     "metadata": {},
     "output_type": "execute_result"
    }
   ],
   "source": [
    "df['time_signature'].value_counts()"
   ]
  },
  {
   "cell_type": "code",
   "execution_count": 95,
   "metadata": {},
   "outputs": [],
   "source": [
    "df['year'] = 0"
   ]
  },
  {
   "cell_type": "code",
   "execution_count": null,
   "metadata": {},
   "outputs": [],
   "source": [
    "for ind, row in df.iterrows():\n",
    "    df['year'][ind] "
   ]
  },
  {
   "cell_type": "code",
   "execution_count": null,
   "metadata": {},
   "outputs": [],
   "source": []
  },
  {
   "cell_type": "code",
   "execution_count": null,
   "metadata": {},
   "outputs": [],
   "source": []
  },
  {
   "cell_type": "code",
   "execution_count": null,
   "metadata": {},
   "outputs": [],
   "source": []
  },
  {
   "cell_type": "code",
   "execution_count": null,
   "metadata": {},
   "outputs": [],
   "source": []
  }
 ],
 "metadata": {
  "kernelspec": {
   "display_name": "Python 3",
   "language": "python",
   "name": "python3"
  },
  "language_info": {
   "codemirror_mode": {
    "name": "ipython",
    "version": 3
   },
   "file_extension": ".py",
   "mimetype": "text/x-python",
   "name": "python",
   "nbconvert_exporter": "python",
   "pygments_lexer": "ipython3",
   "version": "3.6.7"
  }
 },
 "nbformat": 4,
 "nbformat_minor": 2
}
