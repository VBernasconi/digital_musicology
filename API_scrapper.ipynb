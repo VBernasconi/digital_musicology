{
 "cells": [
  {
   "cell_type": "code",
   "execution_count": 50,
   "metadata": {},
   "outputs": [],
   "source": [
    "import sys\n",
    "import re\n",
    "import pprint\n",
    "\n",
    "import pandas as pd\n",
    "import numpy as np\n",
    "import matplotlib.pyplot as plt\n",
    "\n",
    "import spotipy\n",
    "import spotipy.util as util\n",
    "import spotipy.oauth2 as oauth2"
   ]
  },
  {
   "cell_type": "code",
   "execution_count": 21,
   "metadata": {},
   "outputs": [],
   "source": [
    "CLIENT_ID = 'c176fc3fdc3f408ea6fb5d5db64f4196',\n",
    "CLIENT_SECRET = '6b9960a8f20246959044426ddc017a2d',\n",
    "REDIRECT_URI='http://localhost:8888/callback'"
   ]
  },
  {
   "cell_type": "code",
   "execution_count": 22,
   "metadata": {},
   "outputs": [],
   "source": [
    "credentials = oauth2.SpotifyClientCredentials(client_id=CLIENT_ID,\n",
    "                                              client_secret=CLIENT_SECRET)\n",
    "\n",
    "token = credentials.get_access_token()\n",
    "spotipy = spotipy.Spotify(auth=token)"
   ]
  },
  {
   "cell_type": "code",
   "execution_count": 26,
   "metadata": {
    "scrolled": true
   },
   "outputs": [
    {
     "name": "stdout",
     "output_type": "stream",
     "text": [
      "{'artists': {'href': 'https://api.spotify.com/v1/search?query=artist%3AScott+Joplin&type=artist&market=US&offset=0&limit=50', 'items': [{'external_urls': {'spotify': 'https://open.spotify.com/artist/5FgkTUuCNKDlilidPvZqOq'}, 'followers': {'href': None, 'total': 30907}, 'genres': ['american modern classical', 'post-romantic era', 'ragtime', 'stride', 'tin pan alley'], 'href': 'https://api.spotify.com/v1/artists/5FgkTUuCNKDlilidPvZqOq', 'id': '5FgkTUuCNKDlilidPvZqOq', 'images': [{'height': 350, 'url': 'https://i.scdn.co/image/0200031aa1c6d230928dbf66363c51a3979f0ea7', 'width': 262}, {'height': 267, 'url': 'https://i.scdn.co/image/3a8a3e19695bc5dba4e6246f38cdfff93845237d', 'width': 200}, {'height': 85, 'url': 'https://i.scdn.co/image/f89b4828b8151ebbd982bd26f9bda288c717fa03', 'width': 64}], 'name': 'Scott Joplin', 'popularity': 45, 'type': 'artist', 'uri': 'spotify:artist:5FgkTUuCNKDlilidPvZqOq'}, {'external_urls': {'spotify': 'https://open.spotify.com/artist/4jiVOGkDxkhK6ndKkK3Bt1'}, 'fo ...\n"
     ]
    }
   ],
   "source": [
    "query = 'Scott Joplin'\n",
    "\n",
    "results = spotipy.search(q='artist:' + query, type='artist', limit=50, market = 'US')\n",
    "\n",
    "print(str(results)[:1000] + ' ...')"
   ]
  },
  {
   "cell_type": "code",
   "execution_count": 46,
   "metadata": {
    "scrolled": true
   },
   "outputs": [],
   "source": [
    "df = pd.DataFrame.from_dict(results['artists']['items'])"
   ]
  },
  {
   "cell_type": "code",
   "execution_count": 49,
   "metadata": {},
   "outputs": [],
   "source": [
    "df.to_csv('data/' +  query.replace(' ', '_') + '.csv')"
   ]
  }
 ],
 "metadata": {
  "kernelspec": {
   "display_name": "Python 3",
   "language": "python",
   "name": "python3"
  },
  "language_info": {
   "codemirror_mode": {
    "name": "ipython",
    "version": 3
   },
   "file_extension": ".py",
   "mimetype": "text/x-python",
   "name": "python",
   "nbconvert_exporter": "python",
   "pygments_lexer": "ipython3",
   "version": "3.6.5"
  }
 },
 "nbformat": 4,
 "nbformat_minor": 2
}
