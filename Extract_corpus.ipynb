{
 "cells": [
  {
   "cell_type": "code",
   "execution_count": 1,
   "metadata": {},
   "outputs": [],
   "source": [
    "import re\n",
    "import pandas as pd\n",
    "import numpy as np\n",
    "import matplotlib.pyplot as plt\n",
    "import scipy.stats\n",
    "import seaborn as sns\n",
    "\n",
    "import warnings\n",
    "warnings.filterwarnings(\"ignore\")\n",
    "pd.options.mode.chained_assignment = None"
   ]
  },
  {
   "cell_type": "code",
   "execution_count": 2,
   "metadata": {},
   "outputs": [],
   "source": [
    "df_billboard = pd.read_csv(\n",
    "    'data/Billboard-Weekly-Songs-With-Song-And-Artist-Spotify-Popularity.csv')\n",
    "df_dataset = pd.read_csv('data/dataset.csv').drop(columns = 'Unnamed: 0')\n",
    "df_artist_genres = pd.read_csv('data/artists_genres.csv')"
   ]
  },
  {
   "cell_type": "code",
   "execution_count": 3,
   "metadata": {},
   "outputs": [],
   "source": [
    "df_billboard = df_billboard[df_billboard['date'] >= '1958-08-08']\n",
    "df_billboard = df_billboard[df_billboard['date'] < '1996-01-01']"
   ]
  },
  {
   "cell_type": "code",
   "execution_count": 4,
   "metadata": {},
   "outputs": [],
   "source": [
    "df_billboard = df_billboard.drop(columns = ['Spotify_Popularity', 'Artist_Popularity', 'Weeks on chart', 'year'])"
   ]
  },
  {
   "cell_type": "code",
   "execution_count": 5,
   "metadata": {},
   "outputs": [],
   "source": [
    "df_billboard = df_billboard.rename(columns = {'Rank':'rank', 'Title':'title_billboard', \n",
    "                                              'Artist':'artist_billboard'})"
   ]
  },
  {
   "cell_type": "code",
   "execution_count": 6,
   "metadata": {},
   "outputs": [
    {
     "data": {
      "text/plain": [
       "177700"
      ]
     },
     "execution_count": 6,
     "metadata": {},
     "output_type": "execute_result"
    }
   ],
   "source": [
    "len(df_billboard)"
   ]
  },
  {
   "cell_type": "code",
   "execution_count": 7,
   "metadata": {},
   "outputs": [],
   "source": [
    "df_dataset = df_dataset.drop(columns = ['Spotify_Popularity', 'Artist_Popularity', 'danceability',\n",
    "                                       'speechiness', 'acousticness', 'instrumentalness', 'liveness', \n",
    "                                        'Weeks on chart', 'year'])"
   ]
  },
  {
   "cell_type": "code",
   "execution_count": 8,
   "metadata": {},
   "outputs": [],
   "source": [
    "df_dataset = df_dataset[['track_id', 'Title', 'Artist', 'track_title', 'track_artist', 'key', 'time_signature',\n",
    "                        'mode', 'tempo', 'loudness', 'duration_ms', 'energy', 'valence']]"
   ]
  },
  {
   "cell_type": "code",
   "execution_count": 9,
   "metadata": {},
   "outputs": [],
   "source": [
    "df_dataset = df_dataset.rename(columns = {'Title':'title_billboard', 'Artist':'artist_billboard',\n",
    "                                         'track_title':'title_spotify', 'track_artist':'artist_spotify'})"
   ]
  },
  {
   "cell_type": "code",
   "execution_count": 10,
   "metadata": {},
   "outputs": [],
   "source": [
    "df_dataset = df_dataset.dropna()"
   ]
  },
  {
   "cell_type": "code",
   "execution_count": 11,
   "metadata": {},
   "outputs": [],
   "source": [
    "df_genres = df_artist_genres[['Artist', 'genre']]\n",
    "df_genres = df_genres.rename(columns = {'Artist': 'artist_billboard'})\n",
    "df_genres = df_genres.drop_duplicates(['artist_billboard'])"
   ]
  },
  {
   "cell_type": "code",
   "execution_count": 12,
   "metadata": {},
   "outputs": [
    {
     "data": {
      "text/plain": [
       "27065"
      ]
     },
     "execution_count": 12,
     "metadata": {},
     "output_type": "execute_result"
    }
   ],
   "source": [
    "len(df_dataset)"
   ]
  },
  {
   "cell_type": "code",
   "execution_count": 13,
   "metadata": {},
   "outputs": [
    {
     "data": {
      "text/plain": [
       "5361"
      ]
     },
     "execution_count": 13,
     "metadata": {},
     "output_type": "execute_result"
    }
   ],
   "source": [
    "len(df_genres)"
   ]
  },
  {
   "cell_type": "code",
   "execution_count": 14,
   "metadata": {},
   "outputs": [],
   "source": [
    "df_dataset = df_dataset.merge(df_genres, on='artist_billboard', how = 'left')"
   ]
  },
  {
   "cell_type": "code",
   "execution_count": 15,
   "metadata": {},
   "outputs": [],
   "source": [
    "df_dataset = df_dataset.rename(columns = {'genre': 'genre_list'})"
   ]
  },
  {
   "cell_type": "code",
   "execution_count": 16,
   "metadata": {},
   "outputs": [],
   "source": [
    "df_dataset = df_dataset.reindex()"
   ]
  },
  {
   "cell_type": "code",
   "execution_count": 17,
   "metadata": {},
   "outputs": [],
   "source": [
    "df_dataset['weeks_list'] = np.nan\n",
    "df_dataset['ranks_list'] = np.nan\n",
    "df_dataset['highest_rank'] = 100"
   ]
  },
  {
   "cell_type": "code",
   "execution_count": 18,
   "metadata": {},
   "outputs": [],
   "source": [
    "def serie_string_to_list(serie, limit = 1):\n",
    "    \n",
    "    serie_ = serie\n",
    "    \n",
    "    for ind, text in serie.iteritems():\n",
    "        list_ = []\n",
    " \n",
    "        split = re.split('[[\\],\\'\"]', str(text))\n",
    "            \n",
    "        for item in split:\n",
    "            if len(item) > limit:\n",
    "                list_.append(item)\n",
    "                \n",
    "        serie_[ind] = list_\n",
    "        \n",
    "    return serie_"
   ]
  },
  {
   "cell_type": "code",
   "execution_count": 19,
   "metadata": {},
   "outputs": [],
   "source": [
    "df_dataset[df_dataset['genre_list'] == np.nan] = '[]'"
   ]
  },
  {
   "cell_type": "code",
   "execution_count": 20,
   "metadata": {},
   "outputs": [],
   "source": [
    "df_dataset['genre_list'] = serie_string_to_list(df_dataset['genre_list'])"
   ]
  },
  {
   "cell_type": "code",
   "execution_count": 21,
   "metadata": {
    "collapsed": true
   },
   "outputs": [
    {
     "name": "stdout",
     "output_type": "stream",
     "text": [
      "0.0%\n",
      "3.694%\n",
      "7.389%\n",
      "11.08%\n",
      "14.77%\n",
      "18.47%\n",
      "22.16%\n",
      "25.86%\n",
      "29.55%\n",
      "33.25%\n",
      "36.94%\n",
      "40.64%\n",
      "44.33%\n",
      "48.03%\n",
      "51.72%\n",
      "55.42%\n",
      "59.11%\n",
      "62.81%\n",
      "66.50%\n",
      "70.20%\n",
      "73.89%\n",
      "77.59%\n",
      "81.28%\n",
      "84.98%\n",
      "88.67%\n",
      "92.37%\n",
      "96.06%\n",
      "99.75%\n"
     ]
    }
   ],
   "source": [
    "for ind, row in df_dataset.iterrows():\n",
    "    \n",
    "    entries = df_billboard[(df_billboard['title_billboard'] == row['title_billboard']) &\n",
    "                           (df_billboard['artist_billboard'] == row['artist_billboard'])]\n",
    "    \n",
    "    df_dataset['weeks_list'][ind] = str(entries['date'].values.tolist())\n",
    "    df_dataset['ranks_list'][ind] = str(entries['rank'].values.tolist())\n",
    "    \n",
    "    if ind%1000 == 0:\n",
    "        print(str(100*ind/len(df_dataset))[:5] + '%')\n",
    "    "
   ]
  },
  {
   "cell_type": "code",
   "execution_count": 26,
   "metadata": {},
   "outputs": [],
   "source": [
    "df_dataset = df_dataset[df_dataset['weeks_list'] != np.nan]"
   ]
  },
  {
   "cell_type": "code",
   "execution_count": 27,
   "metadata": {},
   "outputs": [],
   "source": [
    "df_dataset['weeks_list'] = serie_string_to_list(df_dataset['weeks_list'])\n",
    "df_dataset['ranks_list'] = serie_string_to_list(df_dataset['ranks_list'], limit = 0)"
   ]
  },
  {
   "cell_type": "code",
   "execution_count": 28,
   "metadata": {},
   "outputs": [],
   "source": [
    "for ind, row in df_dataset.iterrows():\n",
    "    \n",
    "    if len(row['ranks_list']) > 0:\n",
    "        df_dataset['highest_rank'][ind] = sorted(row['ranks_list'])[0]"
   ]
  },
  {
   "cell_type": "code",
   "execution_count": 40,
   "metadata": {},
   "outputs": [],
   "source": [
    "df_dataset = df_dataset[df_dataset['weeks_list'].astype('str') != '[]']\n",
    "df_dataset = df_dataset[df_dataset['ranks_list'].astype('str') != '[]']"
   ]
  },
  {
   "cell_type": "code",
   "execution_count": 41,
   "metadata": {},
   "outputs": [
    {
     "data": {
      "text/plain": [
       "19098"
      ]
     },
     "execution_count": 41,
     "metadata": {},
     "output_type": "execute_result"
    }
   ],
   "source": [
    "len(df_dataset)"
   ]
  },
  {
   "cell_type": "code",
   "execution_count": 42,
   "metadata": {},
   "outputs": [],
   "source": [
    "df_dataset.to_json('json/corpus.json')"
   ]
  },
  {
   "cell_type": "code",
   "execution_count": 43,
   "metadata": {},
   "outputs": [],
   "source": [
    "df_dataset.to_csv('data/corpus.csv')"
   ]
  },
  {
   "cell_type": "code",
   "execution_count": null,
   "metadata": {},
   "outputs": [],
   "source": []
  },
  {
   "cell_type": "code",
   "execution_count": null,
   "metadata": {},
   "outputs": [],
   "source": []
  }
 ],
 "metadata": {
  "kernelspec": {
   "display_name": "Python 3",
   "language": "python",
   "name": "python3"
  },
  "language_info": {
   "codemirror_mode": {
    "name": "ipython",
    "version": 3
   },
   "file_extension": ".py",
   "mimetype": "text/x-python",
   "name": "python",
   "nbconvert_exporter": "python",
   "pygments_lexer": "ipython3",
   "version": "3.6.7"
  }
 },
 "nbformat": 4,
 "nbformat_minor": 2
}
